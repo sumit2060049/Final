{
 "cells": [
  {
   "cell_type": "code",
   "execution_count": 1,
   "id": "f2de24bd-5afe-49af-8209-0ed4bc6f4e3b",
   "metadata": {},
   "outputs": [],
   "source": [
    "# Importing Modules"
   ]
  },
  {
   "cell_type": "code",
   "execution_count": 2,
   "id": "254bd740-0390-4009-8362-84484b29a64e",
   "metadata": {},
   "outputs": [],
   "source": [
    "from dotenv import load_dotenv\n",
    "import os\n",
    "import pymongo\n",
    "import snowflake.connector\n",
    "import pandas as pd\n"
   ]
  },
  {
   "cell_type": "code",
   "execution_count": 3,
   "id": "5317419c-885f-4c02-92c6-974613623fe5",
   "metadata": {},
   "outputs": [
    {
     "data": {
      "text/plain": [
       "True"
      ]
     },
     "execution_count": 3,
     "metadata": {},
     "output_type": "execute_result"
    }
   ],
   "source": [
    "# Load environment variables from .env file\n",
    "load_dotenv()"
   ]
  },
  {
   "cell_type": "code",
   "execution_count": 4,
   "id": "3e451a7c-c468-46d6-bcf6-ac72e040c9af",
   "metadata": {},
   "outputs": [],
   "source": [
    "mongo_connection_string = (\n",
    "    f\"mongodb+srv://{os.environ['MONGO_USERNAME']}:\"\n",
    "    f\"{os.environ['MONGO_PASS']}@\"\n",
    "    f\"test-cluster.wvpnfkn.mongodb.net/\"\n",
    "    +\"?retryWrites=true&w=majority&appName=test-cluster\"\n",
    ")"
   ]
  },
  {
   "cell_type": "code",
   "execution_count": 5,
   "id": "0be05bb1-315b-4056-b711-3390b5226e78",
   "metadata": {},
   "outputs": [
    {
     "name": "stdout",
     "output_type": "stream",
     "text": [
      "Connected to MongoDB Atlas successfully!\n"
     ]
    }
   ],
   "source": [
    "try:\n",
    "    # Connect to MongoDB Atlas\n",
    "    mongo_client = pymongo.MongoClient(mongo_connection_string)\n",
    "    mongo_db = mongo_client[os.environ['MONGO_DBNAME']]\n",
    "    \n",
    "    # Print connection success message\n",
    "    print(\"Connected to MongoDB Atlas successfully!\")\n",
    "\n",
    "    # Now, you can perform further operations with mongo_client and mongo_db\n",
    "except pymongo.errors.ConnectionFailure as e:\n",
    "    # Print connection failure message\n",
    "    print(f\"Failed to connect to MongoDB Atlas: {e}\")"
   ]
  },
  {
   "cell_type": "code",
   "execution_count": 6,
   "id": "adbfaa6a-1de5-4d81-ac0f-9a60c0463be4",
   "metadata": {},
   "outputs": [
    {
     "name": "stdout",
     "output_type": "stream",
     "text": [
      "Connected to Snowflake successfully!\n"
     ]
    }
   ],
   "source": [
    "try:\n",
    "    # Connect to Snowflake using environment variables\n",
    "    snowflake_conn = snowflake.connector.connect(\n",
    "        user=os.environ[\"SNOWFLAKE_USER\"],\n",
    "        password=os.environ[\"SNOWFLAKE_PASSWORD\"],\n",
    "        account=os.environ[\"SNOWFLAKE_ACCOUNT\"],\n",
    "        warehouse=os.environ[\"SNOWFLAKE_WAREHOUSE\"],\n",
    "        database=os.environ[\"SNOWFLAKE_DATABASE\"],\n",
    "        schema=os.environ[\"SNOWFLAKE_SCHEMA\"],\n",
    "        role = os.environ[\"SNOWFLAKE_ROLE\"]\n",
    "    )\n",
    "\n",
    "    # Print connection success message\n",
    "    print(\"Connected to Snowflake successfully!\")\n",
    "\n",
    "    # Now, you can perform further operations with snowflake_conn\n",
    "except snowflake.connector.errors.DatabaseError as e:\n",
    "    # Print connection failure message\n",
    "    print(f\"Failed to connect to Snowflake: {e}\")"
   ]
  },
  {
   "cell_type": "code",
   "execution_count": null,
   "id": "eb50e6f9-da21-4151-9182-9a39c8949264",
   "metadata": {},
   "outputs": [],
   "source": []
  },
  {
   "cell_type": "markdown",
   "id": "93decfc1-36a7-44a6-8871-0c9e0b870ba4",
   "metadata": {},
   "source": [
    "## Mongo to Stage"
   ]
  },
  {
   "cell_type": "code",
   "execution_count": 8,
   "id": "47f9243c-5d60-44c4-ab1f-21b25ba0ff8d",
   "metadata": {},
   "outputs": [
    {
     "name": "stdout",
     "output_type": "stream",
     "text": [
      "Data from collection 'projectexperiences' written to 'staging_raw_data/projectexperiences.csv'\n",
      "Data from collection 'skills' written to 'staging_raw_data/skills.csv'\n",
      "Data from collection 'certificates' written to 'staging_raw_data/certificates.csv'\n",
      "Data from collection 'users' written to 'staging_raw_data/users.csv'\n",
      "Data from collection 'approverdetails' written to 'staging_raw_data/approverdetails.csv'\n",
      "Data from collection 'userskills' written to 'staging_raw_data/userskills.csv'\n"
     ]
    }
   ],
   "source": [
    "# Create raw_data folder if it doesn't exist\n",
    "if not os.path.exists(\"staging_raw_data\"):\n",
    "    os.makedirs(\"staging_raw_data\")\n",
    "\n",
    "# Iterate over each collection\n",
    "for collection_name in mongo_db.list_collection_names():\n",
    "    # Retrieve data from collection\n",
    "    collection_data = list(mongo_db[collection_name].find())\n",
    "    \n",
    "    # Convert data to DataFrame\n",
    "    df = pd.DataFrame(collection_data)\n",
    "    \n",
    "    # Write DataFrame to CSV file\n",
    "    csv_file_path = f\"staging_raw_data/{collection_name}.csv\"\n",
    "    df.to_csv(csv_file_path, index=False)\n",
    "    print(f\"Data from collection '{collection_name}' written to '{csv_file_path}'\")\n",
    "\n"
   ]
  },
  {
   "cell_type": "code",
   "execution_count": 9,
   "id": "b1ad9de4-c0f8-45c2-b93b-feae27a242ac",
   "metadata": {},
   "outputs": [],
   "source": [
    "# Close MongoDB connection\n",
    "mongo_client.close()"
   ]
  },
  {
   "cell_type": "markdown",
   "id": "379ae2bd-ae40-4d2a-a178-7ad079540d27",
   "metadata": {},
   "source": [
    "## Ingest Into Snowflake"
   ]
  },
  {
   "cell_type": "code",
   "execution_count": 17,
   "id": "da4fbebe-df97-491f-a165-cb6b47dae705",
   "metadata": {},
   "outputs": [
    {
     "name": "stdout",
     "output_type": "stream",
     "text": [
      "Data from 'approverdetails.csv' inserted into 'approverdetails' table in Snowflake.\n",
      "Data from 'certificates.csv' inserted into 'certificates' table in Snowflake.\n",
      "Data from 'projectexperiences.csv' inserted into 'projectexperiences' table in Snowflake.\n",
      "Data from 'skills.csv' inserted into 'skills' table in Snowflake.\n",
      "Data from 'users.csv' inserted into 'users' table in Snowflake.\n",
      "Data from 'userskills.csv' inserted into 'userskills' table in Snowflake.\n"
     ]
    }
   ],
   "source": [
    "# Create staging_raw_data folder if it doesn't exist\n",
    "if not os.path.exists(\"staging_raw_data\"):\n",
    "    print(\"No data to process. Exiting.\")\n",
    "    exit()\n",
    "\n",
    "# Iterate over each CSV file in the staging_raw_data folder\n",
    "for filename in os.listdir(\"staging_raw_data\"):\n",
    "    if filename.endswith(\".csv\"):\n",
    "        # Extract table name from filename (remove .csv extension)\n",
    "        table_name = os.path.splitext(filename)[0]\n",
    "        \n",
    "        # Read CSV file into DataFrame\n",
    "        df = pd.read_csv(f\"staging_raw_data/{filename}\")\n",
    "        \n",
    "        # Replace NaN values with empty strings\n",
    "        df = df.fillna('')\n",
    "        \n",
    "        # Convert all data to string\n",
    "        df = df.astype(str)\n",
    "        \n",
    "        # Create table in Snowflake if it doesn't exist\n",
    "        snowflake_cursor = snowflake_conn.cursor()\n",
    "        create_table_query = f\"CREATE TABLE IF NOT EXISTS {table_name} (\"\n",
    "        for column in df.columns:\n",
    "            create_table_query += f\"{column} VARCHAR,\"\n",
    "        create_table_query = create_table_query[:-1] + \")\"  # Remove trailing comma\n",
    "        snowflake_cursor.execute(create_table_query)\n",
    "        \n",
    "        # Prepare INSERT INTO statement\n",
    "        insert_query = f\"INSERT INTO {table_name} VALUES ({','.join(['%s'] * len(df.columns))})\"\n",
    "        \n",
    "        # Convert DataFrame to list of tuples (rows)\n",
    "        rows = [tuple(row) for row in df.itertuples(index=False)]\n",
    "        \n",
    "        # Execute bulk insert\n",
    "        snowflake_cursor.executemany(insert_query, rows)\n",
    "        snowflake_cursor.close()\n",
    "        \n",
    "        print(f\"Data from '{filename}' inserted into '{table_name}' table in Snowflake.\")\n",
    "\n",
    "# Commit the transaction\n",
    "snowflake_conn.commit()\n",
    "\n",
    "# Close Snowflake connection\n",
    "snowflake_conn.close()"
   ]
  },
  {
   "cell_type": "code",
   "execution_count": null,
   "id": "1ad7a72a-1a83-4199-9ec5-9f8a68dfac9b",
   "metadata": {},
   "outputs": [],
   "source": []
  }
 ],
 "metadata": {
  "kernelspec": {
   "display_name": "Python 3 (ipykernel)",
   "language": "python",
   "name": "python3"
  },
  "language_info": {
   "codemirror_mode": {
    "name": "ipython",
    "version": 3
   },
   "file_extension": ".py",
   "mimetype": "text/x-python",
   "name": "python",
   "nbconvert_exporter": "python",
   "pygments_lexer": "ipython3",
   "version": "3.10.6"
  }
 },
 "nbformat": 4,
 "nbformat_minor": 5
}
