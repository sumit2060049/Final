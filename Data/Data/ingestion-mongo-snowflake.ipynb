{
 "cells": [
  {
   "cell_type": "code",
   "execution_count": 1,
   "id": "f2de24bd-5afe-49af-8209-0ed4bc6f4e3b",
   "metadata": {},
   "outputs": [],
   "source": [
    "# Importing Modules"
   ]
  },
  {
   "cell_type": "code",
   "execution_count": 4,
   "id": "254bd740-0390-4009-8362-84484b29a64e",
   "metadata": {},
   "outputs": [],
   "source": [
    "import os\n",
    "import snowflake.connector\n",
    "import pandas as pd\n"
   ]
  },
  {
   "cell_type": "code",
   "execution_count": 5,
   "id": "adbfaa6a-1de5-4d81-ac0f-9a60c0463be4",
   "metadata": {},
   "outputs": [
    {
     "name": "stdout",
     "output_type": "stream",
     "text": [
      "Connected to Snowflake successfully!\n"
     ]
    }
   ],
   "source": [
    "try:\n",
    "    # Connect to Snowflake using environment variables\n",
    "    snowflake_conn = snowflake.connector.connect(\n",
    "        user='SUMIT45',\n",
    "        password='Mrsumit45@',\n",
    "        account='oq86887.central-india.azure',\n",
    "        warehouse=\"COMPUTE_WH\",\n",
    "        database=\"FINAL_PROJECT\",\n",
    "        schema='RAW',\n",
    "        role = 'ACCOUNTADMIN'\n",
    "    )\n",
    "\n",
    "    # Print connection success message\n",
    "    print(\"Connected to Snowflake successfully!\")\n",
    "\n",
    "    # Now, you can perform further operations with snowflake_conn\n",
    "except snowflake.connector.errors.DatabaseError as e:\n",
    "    # Print connection failure message\n",
    "    print(f\"Failed to connect to Snowflake: {e}\")"
   ]
  },
  {
   "cell_type": "code",
   "execution_count": null,
   "id": "eb50e6f9-da21-4151-9182-9a39c8949264",
   "metadata": {},
   "outputs": [],
   "source": []
  },
  {
   "cell_type": "markdown",
   "id": "379ae2bd-ae40-4d2a-a178-7ad079540d27",
   "metadata": {},
   "source": [
    "## Ingest Into Snowflake"
   ]
  },
  {
   "cell_type": "code",
   "execution_count": 6,
   "id": "da4fbebe-df97-491f-a165-cb6b47dae705",
   "metadata": {},
   "outputs": [
    {
     "name": "stdout",
     "output_type": "stream",
     "text": [
      "Data from 'Report.csv' inserted into 'Report' table in Snowflake.\n",
      "Data from 'Subrole.csv' inserted into 'Subrole' table in Snowflake.\n",
      "Data from 'TrainingAmount.csv' inserted into 'TrainingAmount' table in Snowflake.\n",
      "Data from 'TrainingAssessment.csv' inserted into 'TrainingAssessment' table in Snowflake.\n",
      "Data from 'TrainingCategory.csv' inserted into 'TrainingCategory' table in Snowflake.\n",
      "Data from 'TrainingModule.csv' inserted into 'TrainingModule' table in Snowflake.\n",
      "Data from 'TrainingPlan.csv' inserted into 'TrainingPlan' table in Snowflake.\n",
      "Data from 'User.csv' inserted into 'User' table in Snowflake.\n",
      "Data from 'UserTrainingProgress.csv' inserted into 'UserTrainingProgress' table in Snowflake.\n"
     ]
    }
   ],
   "source": [
    "# Create staging_raw_data folder if it doesn't exist\n",
    "if not os.path.exists(\"staging_raw_data\"):\n",
    "    print(\"No data to process. Exiting.\")\n",
    "    exit()\n",
    "\n",
    "# Iterate over each CSV file in the staging_raw_data folder\n",
    "for filename in os.listdir(\"staging_raw_data\"):\n",
    "    if filename.endswith(\".csv\"):\n",
    "        # Extract table name from filename (remove .csv extension)\n",
    "        table_name = os.path.splitext(filename)[0]\n",
    "        \n",
    "        # Read CSV file into DataFrame\n",
    "        df = pd.read_csv(f\"staging_raw_data/{filename}\")\n",
    "        \n",
    "        # Replace NaN values with empty strings\n",
    "        df = df.fillna('')\n",
    "        \n",
    "        # Convert all data to string\n",
    "        df = df.astype(str)\n",
    "        \n",
    "        # Create table in Snowflake if it doesn't exist\n",
    "        snowflake_cursor = snowflake_conn.cursor()\n",
    "        create_table_query = f\"CREATE TABLE IF NOT EXISTS {table_name} (\"\n",
    "        for column in df.columns:\n",
    "            create_table_query += f\"{column} VARCHAR,\"\n",
    "        create_table_query = create_table_query[:-1] + \")\"  # Remove trailing comma\n",
    "        snowflake_cursor.execute(create_table_query)\n",
    "        \n",
    "        # Prepare INSERT INTO statement\n",
    "        insert_query = f\"INSERT INTO {table_name} VALUES ({','.join(['%s'] * len(df.columns))})\"\n",
    "        \n",
    "        # Convert DataFrame to list of tuples (rows)\n",
    "        rows = [tuple(row) for row in df.itertuples(index=False)]\n",
    "        \n",
    "        # Execute bulk insert\n",
    "        snowflake_cursor.executemany(insert_query, rows)\n",
    "        snowflake_cursor.close()\n",
    "        \n",
    "        print(f\"Data from '{filename}' inserted into '{table_name}' table in Snowflake.\")\n",
    "\n",
    "# Commit the transaction\n",
    "snowflake_conn.commit()\n",
    "\n",
    "# Close Snowflake connection\n",
    "snowflake_conn.close()"
   ]
  },
  {
   "cell_type": "code",
   "execution_count": null,
   "id": "1ad7a72a-1a83-4199-9ec5-9f8a68dfac9b",
   "metadata": {},
   "outputs": [],
   "source": []
  }
 ],
 "metadata": {
  "kernelspec": {
   "display_name": "Python 3 (ipykernel)",
   "language": "python",
   "name": "python3"
  },
  "language_info": {
   "codemirror_mode": {
    "name": "ipython",
    "version": 3
   },
   "file_extension": ".py",
   "mimetype": "text/x-python",
   "name": "python",
   "nbconvert_exporter": "python",
   "pygments_lexer": "ipython3",
   "version": "3.10.6"
  }
 },
 "nbformat": 4,
 "nbformat_minor": 5
}
